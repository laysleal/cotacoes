{
 "cells": [
  {
   "cell_type": "code",
   "execution_count": 21,
   "id": "8f1e6687",
   "metadata": {},
   "outputs": [],
   "source": [
    "import pandas as pd\n",
    "import yfinance as yf\n",
    "from datetime import datetime, timedelta\n",
    "#from datetime import timedelta"
   ]
  },
  {
   "cell_type": "code",
   "execution_count": 22,
   "id": "8ba17d26",
   "metadata": {},
   "outputs": [
    {
     "data": {
      "text/plain": [
       "'2024-12-12'"
      ]
     },
     "execution_count": 22,
     "metadata": {},
     "output_type": "execute_result"
    }
   ],
   "source": [
    "hoje = datetime.today()\n",
    "ontem = hoje - timedelta(days = 1)\n",
    "ontem = ontem.strftime('%Y-%m-%d')\n",
    "ontem"
   ]
  },
  {
   "cell_type": "code",
   "execution_count": 83,
   "id": "f134047b",
   "metadata": {},
   "outputs": [
    {
     "name": "stderr",
     "output_type": "stream",
     "text": [
      "[*********************100%***********************]  1 of 1 completed\n",
      "[*********************100%***********************]  1 of 1 completed\n",
      "[*********************100%***********************]  1 of 1 completed\n",
      "[*********************100%***********************]  1 of 1 completed\n"
     ]
    }
   ],
   "source": [
    "ativos = ['HGFF11.SA', 'HGLG11.SA', 'IVVB11.SA', 'SMAL11.SA']\n",
    "cotacoes = {}\n",
    "c = 0\n",
    "\n",
    "for ativo in ativos:\n",
    "    cotacao = yf.download(ativo, ontem, hoje)\n",
    "    cotacoes[ativo] = round(cotacao['Close'][ativo][0], 2)\n",
    "    #c = c + 1"
   ]
  },
  {
   "cell_type": "code",
   "execution_count": 84,
   "id": "4c65f363",
   "metadata": {},
   "outputs": [
    {
     "data": {
      "text/plain": [
       "{'HGFF11.SA': 65.1,\n",
       " 'HGLG11.SA': 149.46,\n",
       " 'IVVB11.SA': 405.9,\n",
       " 'SMAL11.SA': 92.75}"
      ]
     },
     "execution_count": 84,
     "metadata": {},
     "output_type": "execute_result"
    }
   ],
   "source": [
    "cotacoes"
   ]
  },
  {
   "cell_type": "code",
   "execution_count": null,
   "id": "aae5d192",
   "metadata": {},
   "outputs": [],
   "source": []
  }
 ],
 "metadata": {
  "kernelspec": {
   "display_name": "Python 3 (ipykernel)",
   "language": "python",
   "name": "python3"
  },
  "language_info": {
   "codemirror_mode": {
    "name": "ipython",
    "version": 3
   },
   "file_extension": ".py",
   "mimetype": "text/x-python",
   "name": "python",
   "nbconvert_exporter": "python",
   "pygments_lexer": "ipython3",
   "version": "3.9.13"
  }
 },
 "nbformat": 4,
 "nbformat_minor": 5
}
